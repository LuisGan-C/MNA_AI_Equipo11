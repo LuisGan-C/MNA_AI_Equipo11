{
 "cells": [
  {
   "cell_type": "markdown",
   "metadata": {
    "id": "dBbWMn9ebmi8"
   },
   "source": [
    "# **Maestría en Inteligencia Artificial Aplicada**\n",
    "\n",
    "## **Curso: Inteligencia Artificial y Aprendizaje Automático**\n",
    "\n",
    "### Tecnológico de Monterrey\n",
    "\n",
    "### Prof Luis Eduardo Falcón Morales\n",
    "\n",
    "## **Actividad de las Semanas 5 y 6**\n",
    "### **Problema de asignación de créditos: South German Dataset.**\n"
   ]
  },
  {
   "cell_type": "markdown",
   "metadata": {
    "id": "YiwEw8XsZG2W"
   },
   "source": [
    "## **Nombres y matrículas:**\n",
    "\n",
    "\n",
    "\n",
    "*   Luis Sebastián Gan Cadena A01186635\n",
    "\n",
    "*   Carlos Pano\n",
    "\n",
    "*   Yocoyani\n",
    "\n"
   ]
  },
  {
   "cell_type": "markdown",
   "metadata": {
    "id": "AUxxkjE6shkH"
   },
   "source": [
    "# **Parte I: Partición, análisis y pre-procesamiento de los datos.**"
   ]
  },
  {
   "cell_type": "markdown",
   "metadata": {
    "id": "a08Di3GjkL1Y"
   },
   "source": [
    "## **Ejercicio 1**"
   ]
  },
  {
   "cell_type": "code",
   "execution_count": 19,
   "metadata": {
    "id": "6VGEpE4SblfD"
   },
   "outputs": [],
   "source": [
    "# Aquí deberás incluir todas las librerías que requieras durante esta actividad:\n",
    "import pandas as pd\n",
    "from deep_translator import GoogleTranslator"
   ]
  },
  {
   "cell_type": "code",
   "execution_count": 1,
   "metadata": {
    "id": "K3gUzoM3iRkt"
   },
   "outputs": [],
   "source": [
    "# Si se desean comentar algunos de los Warnings.\n",
    "import warnings\n",
    "warnings.filterwarnings('ignore')"
   ]
  },
  {
   "cell_type": "code",
   "execution_count": 39,
   "metadata": {
    "id": "ppyf8TTgb9zq"
   },
   "outputs": [
    {
     "data": {
      "text/html": [
       "<div>\n",
       "<style scoped>\n",
       "    .dataframe tbody tr th:only-of-type {\n",
       "        vertical-align: middle;\n",
       "    }\n",
       "\n",
       "    .dataframe tbody tr th {\n",
       "        vertical-align: top;\n",
       "    }\n",
       "\n",
       "    .dataframe thead th {\n",
       "        text-align: right;\n",
       "    }\n",
       "</style>\n",
       "<table border=\"1\" class=\"dataframe\">\n",
       "  <thead>\n",
       "    <tr style=\"text-align: right;\">\n",
       "      <th></th>\n",
       "      <th>0</th>\n",
       "      <th>1</th>\n",
       "      <th>2</th>\n",
       "      <th>3</th>\n",
       "      <th>4</th>\n",
       "    </tr>\n",
       "  </thead>\n",
       "  <tbody>\n",
       "    <tr>\n",
       "      <th>running account</th>\n",
       "      <td>1</td>\n",
       "      <td>1</td>\n",
       "      <td>2</td>\n",
       "      <td>1</td>\n",
       "      <td>1</td>\n",
       "    </tr>\n",
       "    <tr>\n",
       "      <th>duration</th>\n",
       "      <td>18</td>\n",
       "      <td>9</td>\n",
       "      <td>12</td>\n",
       "      <td>12</td>\n",
       "      <td>12</td>\n",
       "    </tr>\n",
       "    <tr>\n",
       "      <th>moral</th>\n",
       "      <td>4</td>\n",
       "      <td>4</td>\n",
       "      <td>2</td>\n",
       "      <td>4</td>\n",
       "      <td>4</td>\n",
       "    </tr>\n",
       "    <tr>\n",
       "      <th>used</th>\n",
       "      <td>2</td>\n",
       "      <td>0</td>\n",
       "      <td>9</td>\n",
       "      <td>0</td>\n",
       "      <td>0</td>\n",
       "    </tr>\n",
       "    <tr>\n",
       "      <th>height</th>\n",
       "      <td>1049</td>\n",
       "      <td>2799</td>\n",
       "      <td>841</td>\n",
       "      <td>2122</td>\n",
       "      <td>2171</td>\n",
       "    </tr>\n",
       "    <tr>\n",
       "      <th>savings account</th>\n",
       "      <td>1</td>\n",
       "      <td>1</td>\n",
       "      <td>2</td>\n",
       "      <td>1</td>\n",
       "      <td>1</td>\n",
       "    </tr>\n",
       "    <tr>\n",
       "      <th>time</th>\n",
       "      <td>2</td>\n",
       "      <td>3</td>\n",
       "      <td>4</td>\n",
       "      <td>3</td>\n",
       "      <td>3</td>\n",
       "    </tr>\n",
       "    <tr>\n",
       "      <th>rate</th>\n",
       "      <td>4</td>\n",
       "      <td>2</td>\n",
       "      <td>2</td>\n",
       "      <td>3</td>\n",
       "      <td>4</td>\n",
       "    </tr>\n",
       "    <tr>\n",
       "      <th>famges</th>\n",
       "      <td>2</td>\n",
       "      <td>3</td>\n",
       "      <td>2</td>\n",
       "      <td>3</td>\n",
       "      <td>3</td>\n",
       "    </tr>\n",
       "    <tr>\n",
       "      <th>guarantor</th>\n",
       "      <td>1</td>\n",
       "      <td>1</td>\n",
       "      <td>1</td>\n",
       "      <td>1</td>\n",
       "      <td>1</td>\n",
       "    </tr>\n",
       "    <tr>\n",
       "      <th>living time</th>\n",
       "      <td>4</td>\n",
       "      <td>2</td>\n",
       "      <td>4</td>\n",
       "      <td>2</td>\n",
       "      <td>4</td>\n",
       "    </tr>\n",
       "    <tr>\n",
       "      <th>verm</th>\n",
       "      <td>2</td>\n",
       "      <td>1</td>\n",
       "      <td>1</td>\n",
       "      <td>1</td>\n",
       "      <td>2</td>\n",
       "    </tr>\n",
       "    <tr>\n",
       "      <th>age</th>\n",
       "      <td>21</td>\n",
       "      <td>36</td>\n",
       "      <td>23</td>\n",
       "      <td>39</td>\n",
       "      <td>38</td>\n",
       "    </tr>\n",
       "    <tr>\n",
       "      <th>weitkred</th>\n",
       "      <td>3</td>\n",
       "      <td>3</td>\n",
       "      <td>3</td>\n",
       "      <td>3</td>\n",
       "      <td>1</td>\n",
       "    </tr>\n",
       "    <tr>\n",
       "      <th>residential</th>\n",
       "      <td>1</td>\n",
       "      <td>1</td>\n",
       "      <td>1</td>\n",
       "      <td>1</td>\n",
       "      <td>2</td>\n",
       "    </tr>\n",
       "    <tr>\n",
       "      <th>bishkred</th>\n",
       "      <td>1</td>\n",
       "      <td>2</td>\n",
       "      <td>1</td>\n",
       "      <td>2</td>\n",
       "      <td>2</td>\n",
       "    </tr>\n",
       "    <tr>\n",
       "      <th>profession</th>\n",
       "      <td>3</td>\n",
       "      <td>3</td>\n",
       "      <td>2</td>\n",
       "      <td>2</td>\n",
       "      <td>2</td>\n",
       "    </tr>\n",
       "    <tr>\n",
       "      <th>pers</th>\n",
       "      <td>2</td>\n",
       "      <td>1</td>\n",
       "      <td>2</td>\n",
       "      <td>1</td>\n",
       "      <td>2</td>\n",
       "    </tr>\n",
       "    <tr>\n",
       "      <th>phone</th>\n",
       "      <td>1</td>\n",
       "      <td>1</td>\n",
       "      <td>1</td>\n",
       "      <td>1</td>\n",
       "      <td>1</td>\n",
       "    </tr>\n",
       "    <tr>\n",
       "      <th>guest died</th>\n",
       "      <td>2</td>\n",
       "      <td>2</td>\n",
       "      <td>2</td>\n",
       "      <td>1</td>\n",
       "      <td>1</td>\n",
       "    </tr>\n",
       "    <tr>\n",
       "      <th>credit</th>\n",
       "      <td>1</td>\n",
       "      <td>1</td>\n",
       "      <td>1</td>\n",
       "      <td>1</td>\n",
       "      <td>1</td>\n",
       "    </tr>\n",
       "  </tbody>\n",
       "</table>\n",
       "</div>"
      ],
      "text/plain": [
       "                    0     1    2     3     4\n",
       "running account     1     1    2     1     1\n",
       "duration           18     9   12    12    12\n",
       "moral               4     4    2     4     4\n",
       "used                2     0    9     0     0\n",
       "height           1049  2799  841  2122  2171\n",
       "savings account     1     1    2     1     1\n",
       "time                2     3    4     3     3\n",
       "rate                4     2    2     3     4\n",
       "famges              2     3    2     3     3\n",
       "guarantor           1     1    1     1     1\n",
       "living time         4     2    4     2     4\n",
       "verm                2     1    1     1     2\n",
       "age                21    36   23    39    38\n",
       "weitkred            3     3    3     3     1\n",
       "residential         1     1    1     1     2\n",
       "bishkred            1     2    1     2     2\n",
       "profession          3     3    2     2     2\n",
       "pers                2     1    2     1     2\n",
       "phone               1     1    1     1     1\n",
       "guest died          2     2    2     1     1\n",
       "credit              1     1    1     1     1"
      ]
     },
     "execution_count": 39,
     "metadata": {},
     "output_type": "execute_result"
    }
   ],
   "source": [
    "# Carga y renombra los nombres de las columnas del alemán al inglés y desplegamos\n",
    "# de nuevo el DataFrame para ver el resultado obtenido:\n",
    "\n",
    "# ************* Inlcuye aquí tu código:*****************************\n",
    "#leyendo la data\n",
    "df = pd.read_csv('SouthGermanCredit.asc', delim_whitespace=True)\n",
    "\n",
    "#traduciendo columnas usando google translator y cambiando los nombres\n",
    "translator = GoogleTranslator(source='de', target='en')\n",
    "translated_cols = []\n",
    "for col in df.columns:\n",
    "    translated_cols.append(translator.translate(col))\n",
    "\n",
    "df.columns = translated_columns\n",
    "\n",
    "# *********** Aquí termina la sección de agregar código *************\n",
    "df.head().T"
   ]
  },
  {
   "cell_type": "markdown",
   "metadata": {
    "id": "LckYCS8SlnFo"
   },
   "source": [
    "## **Ejercicio 2**"
   ]
  },
  {
   "cell_type": "code",
   "execution_count": 40,
   "metadata": {
    "id": "Tlg8jYbnlqNA"
   },
   "outputs": [
    {
     "name": "stdout",
     "output_type": "stream",
     "text": [
      "Revision de la data antes:\n",
      "credit\n",
      "1    700\n",
      "0    300\n",
      "Name: count, dtype: int64\n",
      "credit\n",
      "0    700\n",
      "1    300\n",
      "Name: count, dtype: int64\n"
     ]
    }
   ],
   "source": [
    "# Realiza a continuación una transformación para que la clase negativa (buen cliente)\n",
    "# quede con el valor de 0 y la clase positiva (mal cliente) quede con el valor de 1.\n",
    "\n",
    "# ************* Inlcuye aquí tu código:*****************************\n",
    "\n",
    "print(f\"Revision de la data antes:\")\n",
    "print(df[\"credit\"].value_counts())\n",
    "\n",
    "dict_to_map = {0:1,\n",
    "               1:0}\n",
    "\n",
    "df[\"credit\"] = df[\"credit\"].map(dict_to_map)\n",
    "\n",
    "# *********** Aquí termina la sección de agregar código *************\n",
    "\n",
    "print(df['credit'].value_counts())"
   ]
  },
  {
   "cell_type": "markdown",
   "metadata": {
    "id": "qQx2lbzTkEsQ"
   },
   "source": [
    "## **Ejercicio 3**"
   ]
  },
  {
   "cell_type": "code",
   "execution_count": null,
   "metadata": {
    "id": "TP5-zdWVczhy"
   },
   "outputs": [],
   "source": [
    "# Realiza una partición solicitada de entrenamiento y prueba.\n",
    "# Los nombres de los conjuntos deberán ser como se indican en los print de abajo:\n",
    "\n",
    "# ************* Inlcuye aquí tu código:*****************************\n",
    "\n",
    "\n",
    "None\n",
    "\n",
    "\n",
    "# *********** Aquí termina la sección de agregar código *************\n",
    "\n",
    "\n",
    "# Mostremos las dimensiones de la partición generada:\n",
    "print(\"Dimensiones:\")\n",
    "print(\"Entrenamiento:\", Xtrain.shape, ytrain.shape)\n",
    "print(\"Prueba:\", Xtest.shape, ytest.shape)\n",
    "\n",
    "# Y el porcentaje de cada clase de la variable de salida:\n",
    "tmp = ytrain.sum()/ytrain.shape[0]\n",
    "print(\"\\nPorcentaje clases Positiva:%.2f%%, y Negativa:%.2f%%\" % (100*(1-tmp),tmp*100))\n"
   ]
  },
  {
   "cell_type": "markdown",
   "metadata": {
    "id": "ptwAm_mOjVWH"
   },
   "source": [
    "### **Con base al porcentaje de los niveles de la variable de salida ¿podemos decir que tenemos un problema de datos desbalanceado? ¿Por qué?**\n",
    "\n",
    "\n",
    "\n",
    "### ++++++++ Inicia la sección de agregar texto: +++++++++++\n",
    "\n",
    "None\n",
    "\n",
    "### ++++++++ Termina la sección de agregar texto: +++++++++++\n",
    "\n"
   ]
  },
  {
   "cell_type": "markdown",
   "metadata": {
    "id": "ocmGcSC2j_2x"
   },
   "source": [
    "## **Ejercicio 4**"
   ]
  },
  {
   "cell_type": "code",
   "execution_count": null,
   "metadata": {
    "id": "5J2kIzLYHPZP"
   },
   "outputs": [],
   "source": [
    "# De acuerdo a la información de la Tabla 3 del artículo de la IEEE\n",
    "# define las variables correspondientes que se indican a continuación:\n",
    "\n",
    "# ************* Inlcuye aquí tu código:*****************************\n",
    "\n",
    "# Variables numéricas:\n",
    "lista_paper_num = None\n",
    "\n",
    "\n",
    "# Variables ordinales:\n",
    "lista_paper_ord = None\n",
    "\n",
    "\n",
    "# Variables nominales:\n",
    "lista_paper_cat = None\n",
    "\n",
    "\n",
    "# *********** Aquí termina la sección de agregar código *************\n"
   ]
  },
  {
   "cell_type": "markdown",
   "metadata": {
    "id": "zb5bE4WJj8Rw"
   },
   "source": [
    "## **Ejercicio 5**"
   ]
  },
  {
   "cell_type": "code",
   "execution_count": null,
   "metadata": {
    "id": "NvNYiIp9weCm"
   },
   "outputs": [],
   "source": [
    "# Transformaciones que se aplicarán a las variables numéricas usando la clase Pipeline de sklearn:\n",
    "\n",
    "# ************* Inlcuye aquí tu código:*****************************\n",
    "\n",
    "# Variables numéricas:\n",
    "numericas_pipe = None\n",
    "numericas_pipe_nombres = None\n",
    "\n",
    "\n",
    "\n",
    "# Variables categóricas-Nominales:\n",
    "nominales_pipe = None\n",
    "nominales_pipe_nombres = None\n",
    "\n",
    "# Variables categóricas-ordinales:\n",
    "ordinales_pipe = None\n",
    "ordinales_pipe_nombres = None\n",
    "\n",
    "\n",
    "\n",
    "# Conjuntas las transformaciones de todo tipo de variable y\n",
    "# deja sin procesar aquellas que hayas decidido no transformar:\n",
    "\n",
    "columnasTransformer = None\n",
    "\n",
    "\n",
    "\n",
    "# *********** Aquí termina la sección de agregar código *************\n"
   ]
  },
  {
   "cell_type": "markdown",
   "metadata": {
    "id": "UJokj9Diyeu0"
   },
   "source": [
    "## **Ejercicio 6**"
   ]
  },
  {
   "cell_type": "code",
   "execution_count": null,
   "metadata": {
    "id": "d3lqBiH5wd1e"
   },
   "outputs": [],
   "source": [
    "# Como se va a utilizar Validación-Cruzada, concatena los conjuntos de entrenamiento y prueba\n",
    "# en uno nuevo conjunto aumentado que llamaremos trainval para utilizar como entrenamiento:\n",
    "\n",
    "\n",
    "# ************* Inlcuye aquí tu código:**************************\n",
    "\n",
    "Xtraintest = None\n",
    "ytraintest = None\n",
    "\n",
    "# *********** Aquí termina la sección de agregar código *************\n",
    "\n",
    "\n",
    "# Veamos cuántas variables nuevas se introducen con las transformaciones One-Hot-Encoding:\n",
    "Xtmp = Xtraintest.copy()\n",
    "tmp = columnasTransformer.fit_transform(Xtmp)\n",
    "print(\"Dimensión de las variables de entrada ANTES de las transformaciones:\", Xtmp.shape)\n",
    "print(\"Dimensión de las variables de entrada DESPUÉS de las transformaciones:\", tmp.shape)"
   ]
  },
  {
   "cell_type": "markdown",
   "metadata": {
    "id": "hZxyRbHL0gNF"
   },
   "source": [
    "## **Ejercicio 7**"
   ]
  },
  {
   "cell_type": "code",
   "execution_count": null,
   "metadata": {
    "id": "0hdi7AAtwd5G",
    "scrolled": true
   },
   "outputs": [],
   "source": [
    "# Definimos a continuación la función que llamamos \"mis_modelos\" que incluye\n",
    "# todos los modelos que deseamos comparar en el ejercicio.\n",
    "\n",
    "\n",
    "def mis_modelos():\n",
    "  modelos, nombres = list(), list()\n",
    "\n",
    "\n",
    "  # ************* Inlcuye aquí tu código:**************************\n",
    "  #\n",
    "  # Deberás incluir en cada modelo los argumentos que consideres\n",
    "  # adecuados para que cada uno converja y no esté sobreentrenado\n",
    "  # con respecto a la métrica de la exatitud (accuracy).\n",
    "\n",
    "\n",
    "  # Regresión Logística - Logistic Regression-LR:\n",
    "  # https://scikit-learn.org/stable/modules/generated/sklearn.linear_model.LogisticRegression.html\n",
    "\n",
    "  modelos.append(LogisticRegression( None ))\n",
    "  nombres.append('LR')\n",
    "\n",
    "\n",
    "\n",
    "\n",
    "  # k-Vecinos más Cercanos : k-Nearest-Neighbors-kNN:\n",
    "  # https://scikit-learn.org/stable/modules/generated/sklearn.neighbors.KNeighborsClassifier.html\n",
    "\n",
    "  modelos.append(KNeighborsClassifier( None ))\n",
    "  nombres.append('kNN')\n",
    "\n",
    "\n",
    "\n",
    "\n",
    "  # Árbol de decisiones-DecisionTree-DT:\n",
    "  # https://scikit-learn.org/stable/modules/generated/sklearn.tree.DecisionTreeClassifier.html\n",
    "\n",
    "  modelos.append(DecisionTreeClassifier( None ))\n",
    "  nombres.append('DTree')\n",
    "\n",
    "\n",
    "\n",
    "\n",
    "  # Bosque Aleatorio-RandomForest-RF:\n",
    "  # https://scikit-learn.org/stable/modules/generated/sklearn.ensemble.RandomForestClassifier.html\n",
    "\n",
    "  modelos.append(RandomForestClassifier( None ))\n",
    "  nombres.append('RF')\n",
    "\n",
    "\n",
    "\n",
    "\n",
    "  # XGBoosting:\n",
    "  # https://xgboost.readthedocs.io/en/latest/python/python_api.html#xgboost.XGBClassifier\n",
    "  # https://xgboost.readthedocs.io/en/stable/parameter.html\n",
    "\n",
    "  modelos.append(XGBClassifier( None ))\n",
    "  nombres.append('XGBoost')\n",
    "\n",
    "\n",
    "\n",
    "\n",
    "  # Red neuronal de Perceptrón Multicapa-MLP:\n",
    "  # https://scikit-learn.org/stable/modules/generated/sklearn.neural_network.MLPClassifier.html\n",
    "\n",
    "  modelos.append(MLPClassifier( None ))\n",
    "  nombres.append('MLP')\n",
    "\n",
    "\n",
    "\n",
    "\n",
    "  # Máquina de Vectores de Soporte-SVM:\n",
    "  # https://scikit-learn.org/stable/modules/generated/sklearn.svm.SVC.html\n",
    "\n",
    "  modelos.append(SVC( None ))\n",
    "  nombres.append('SVM')\n",
    "\n",
    "  return modelos, nombres\n",
    "\n",
    "\n",
    "# Técnica de submuestreo (undersampling) y/o sobremuestreo (versampling) utilizada:\n",
    "mi_uoSampling = None\n",
    "\n",
    "Xtv_uo, ytv_uo = mi_uoSampling.fit_resample(Xtraintest, ytraintest)\n",
    "\n",
    "\n",
    "\n",
    "# *********** Aquí termina la sección de agregar código *******************\n",
    "\n",
    "\n",
    "\n",
    "\n",
    "\n",
    "# Entrenamos cada uno de los modelos y desplegamos la métricas de Train y Val.\n",
    "\n",
    "# NOTA: Observa que el método de Validación-Cruzada llama  a los resultados\n",
    "#       de \"validation\" como \"test\":\n",
    "\n",
    "modelos, nombres = mis_modelos()\n",
    "resultados = list()\n",
    "\n",
    "for i in range(len(modelos)):\n",
    "\n",
    "  # Definimos nuestro pipeline con las transformaciones y los modelos:\n",
    "  pipeline = Pipeline(steps=[('ct',columnasTransformer),('m',modelos[i])])\n",
    "\n",
    "  # Aplicaremos validación-cruzada:\n",
    "  micv = RepeatedStratifiedKFold(n_splits=5,\n",
    "                                 n_repeats=3,\n",
    "                                 random_state=5     # agreguemos una semilla para estabilizar resultados.\n",
    "                                 )\n",
    "\n",
    "\n",
    "  # Definimos las métricas que desamos recuperar:\n",
    "  mismetricas = {'miaccuracy':'accuracy','miprecision':'precision','mirecall':'recall',\n",
    "                 'mifi':'f1','miauc':'roc_auc','migmean':make_scorer(geometric_mean_score)}\n",
    "\n",
    "  # Llevamos a cabo el entrenamiento:\n",
    "  scores = cross_validate(pipeline,\n",
    "                          Xtv_uo,\n",
    "                          ytv_uo,\n",
    "                          scoring=mismetricas,\n",
    "                          cv=micv,\n",
    "                          return_train_score=True,\n",
    "                          )\n",
    "\n",
    "  # Guardemos el resultado de cada modelo para análisis posteriores.\n",
    "  resultados.append(scores)\n",
    "\n",
    "  # Desplegamos los valores de las métricas para verificar si no hay\n",
    "  # subentrenamiento o sobreentrenamiento:\n",
    "  print('>> %s' % nombres[i])\n",
    "  for j,k in enumerate(list(scores.keys())):\n",
    "    if j>1:\n",
    "      print('\\t %s %.3f (%.3f)' % (k, np.mean(scores[k]),np.std(scores[k])))"
   ]
  },
  {
   "cell_type": "markdown",
   "metadata": {
    "id": "4JkGo57zMXqn"
   },
   "source": [
    "## **Ejercicio 8**"
   ]
  },
  {
   "cell_type": "markdown",
   "metadata": {
    "id": "n04HnK-ZX4vl"
   },
   "source": [
    "### **Escribe tus conclusiones finales de la actividad.**"
   ]
  },
  {
   "cell_type": "markdown",
   "metadata": {
    "id": "R7s7iDgKYEn9"
   },
   "source": [
    "### ++++++++ Inicia la sección de agregar texto: +++++++++++\n",
    "\n",
    "None\n",
    "\n",
    "\n",
    "### ++++++++ Termina la sección de agregar texto. +++++++++++\n"
   ]
  },
  {
   "cell_type": "markdown",
   "metadata": {
    "id": "v-tW_CdUYMdl"
   },
   "source": [
    ">> ### **Fin de la Actividad de las Semanas 5 y 6.**"
   ]
  }
 ],
 "metadata": {
  "colab": {
   "collapsed_sections": [
    "a08Di3GjkL1Y",
    "LckYCS8SlnFo",
    "qQx2lbzTkEsQ",
    "ocmGcSC2j_2x",
    "zb5bE4WJj8Rw",
    "UJokj9Diyeu0",
    "hZxyRbHL0gNF",
    "4JkGo57zMXqn"
   ],
   "provenance": []
  },
  "kernelspec": {
   "display_name": "Python 3 (ipykernel)",
   "language": "python",
   "name": "python3"
  },
  "language_info": {
   "codemirror_mode": {
    "name": "ipython",
    "version": 3
   },
   "file_extension": ".py",
   "mimetype": "text/x-python",
   "name": "python",
   "nbconvert_exporter": "python",
   "pygments_lexer": "ipython3",
   "version": "3.11.7"
  }
 },
 "nbformat": 4,
 "nbformat_minor": 4
}
